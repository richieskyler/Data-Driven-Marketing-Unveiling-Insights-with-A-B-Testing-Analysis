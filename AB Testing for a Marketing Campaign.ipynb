{
 "cells": [
  {
   "cell_type": "markdown",
   "id": "62e0b629",
   "metadata": {},
   "source": [
    "## Table of Contents\n",
    "<ul>\n",
    "<li><a href=\"#intro\">Introduction</a></li>\n",
    "<li><a href=\"#wrangling\">Data preparation</a></li>\n",
    "<li><a href=\"#kpi\">Calculating KPI's</a></li>\n",
    "<li><a href=\"#kpi_insights\">Generating Insights from KPI's</a></li>\n",
    "<li><a href=\"#insights\">Conclusion with Data Driven Insights</a></li>\n",
    "</ul>\n"
   ]
  },
  {
   "cell_type": "markdown",
   "id": "e1ebbe7d",
   "metadata": {},
   "source": [
    "<a id='intro'></a>\n",
    "## Introduction"
   ]
  },
  {
   "cell_type": "markdown",
   "id": "59772663",
   "metadata": {},
   "source": [
    "This aim of A/B testing analysis is to helps the business to furthur understand and find the best marketing campaign approach in converting its target customers in actual customers"
   ]
  },
  {
   "cell_type": "markdown",
   "id": "c5356810",
   "metadata": {},
   "source": [
    "### About the data"
   ]
  },
  {
   "cell_type": "markdown",
   "id": "49d5171e",
   "metadata": {},
   "source": [
    "We are using two datasets of two different types of marketing campains called \n",
    "- Control campaigns\n",
    "- Test campaigns\n",
    "<br>\n",
    "<br>\n",
    "Each dataset contain the same features. They are:\n",
    "<br>\n",
    "- Camapign name\n",
    "- Date of specific campaign\n",
    "- Number of impressions for each campaign\n",
    "- Reach of each campaign\n",
    "- Number of website clicks\n",
    "- Number of searches \n",
    "- Number of views on the content\n",
    "- Number of times it results in \"Add to Cart\"\n",
    "- Yhe number of purchases from each campaign"
   ]
  },
  {
   "cell_type": "markdown",
   "id": "3bb4a8c9",
   "metadata": {},
   "source": [
    "<a id='wrangling'></a>\n",
    "## Data Preparation"
   ]
  },
  {
   "cell_type": "markdown",
   "id": "fd4b7c39",
   "metadata": {},
   "source": [
    "#### Importing libraries"
   ]
  },
  {
   "cell_type": "code",
   "execution_count": 1,
   "id": "b50ba6a7",
   "metadata": {},
   "outputs": [],
   "source": [
    "import os\n",
    "import pandas as pd\n",
    "import numpy as np\n",
    "import matplotlib.pyplot as plt\n",
    "import seaborn as sns\n",
    "import warnings\n",
    "warnings.filterwarnings('ignore')"
   ]
  },
  {
   "cell_type": "code",
   "execution_count": 2,
   "id": "9df56907",
   "metadata": {},
   "outputs": [],
   "source": [
    "#changing working directory\n",
    "os.chdir('C:\\\\Users\\\\Richard\\\\Downloads\\\\Data\\\\ab testing')\n",
    "# Print the current working directory"
   ]
  },
  {
   "cell_type": "markdown",
   "id": "a2c6f927",
   "metadata": {},
   "source": [
    "#### Loading datasets"
   ]
  },
  {
   "cell_type": "code",
   "execution_count": 3,
   "id": "34ff9cef",
   "metadata": {},
   "outputs": [],
   "source": [
    "control = pd.read_csv('control_group.csv')\n",
    "test    = pd.read_csv('test_group.csv')"
   ]
  },
  {
   "cell_type": "code",
   "execution_count": 4,
   "id": "768863a4",
   "metadata": {},
   "outputs": [
    {
     "name": "stdout",
     "output_type": "stream",
     "text": [
      "<class 'pandas.core.frame.DataFrame'>\n",
      "RangeIndex: 30 entries, 0 to 29\n",
      "Data columns (total 10 columns):\n",
      " #   Column               Non-Null Count  Dtype  \n",
      "---  ------               --------------  -----  \n",
      " 0   Campaign Name        30 non-null     object \n",
      " 1   Date                 30 non-null     object \n",
      " 2   Spend [USD]          30 non-null     int64  \n",
      " 3   # of Impressions     29 non-null     float64\n",
      " 4   Reach                29 non-null     float64\n",
      " 5   # of Website Clicks  29 non-null     float64\n",
      " 6   # of Searches        29 non-null     float64\n",
      " 7   # of View Content    29 non-null     float64\n",
      " 8   # of Add to Cart     29 non-null     float64\n",
      " 9   # of Purchase        29 non-null     float64\n",
      "dtypes: float64(7), int64(1), object(2)\n",
      "memory usage: 2.5+ KB\n"
     ]
    }
   ],
   "source": [
    "control.info()"
   ]
  },
  {
   "cell_type": "code",
   "execution_count": 5,
   "id": "01713b42",
   "metadata": {},
   "outputs": [
    {
     "name": "stdout",
     "output_type": "stream",
     "text": [
      "<class 'pandas.core.frame.DataFrame'>\n",
      "RangeIndex: 30 entries, 0 to 29\n",
      "Data columns (total 10 columns):\n",
      " #   Column               Non-Null Count  Dtype \n",
      "---  ------               --------------  ----- \n",
      " 0   Campaign Name        30 non-null     object\n",
      " 1   Date                 30 non-null     object\n",
      " 2   Spend [USD]          30 non-null     int64 \n",
      " 3   # of Impressions     30 non-null     int64 \n",
      " 4   Reach                30 non-null     int64 \n",
      " 5   # of Website Clicks  30 non-null     int64 \n",
      " 6   # of Searches        30 non-null     int64 \n",
      " 7   # of View Content    30 non-null     int64 \n",
      " 8   # of Add to Cart     30 non-null     int64 \n",
      " 9   # of Purchase        30 non-null     int64 \n",
      "dtypes: int64(8), object(2)\n",
      "memory usage: 2.5+ KB\n"
     ]
    }
   ],
   "source": [
    "test.info()"
   ]
  },
  {
   "cell_type": "markdown",
   "id": "44086839",
   "metadata": {},
   "source": [
    "#### Dataset wrangling"
   ]
  },
  {
   "cell_type": "markdown",
   "id": "8b93f290",
   "metadata": {},
   "source": [
    "After looking at the imformation of the two datasets we spot the following data issues"
   ]
  },
  {
   "cell_type": "markdown",
   "id": "07359edc",
   "metadata": {},
   "source": [
    "Data wrangling issues:\n",
    "- rename features\n",
    "- convert date fefature to datatime datatype\n",
    "- missing values in the control dataset"
   ]
  },
  {
   "cell_type": "code",
   "execution_count": 6,
   "id": "c2c16251",
   "metadata": {},
   "outputs": [],
   "source": [
    "## Renaming features\n",
    "control.columns = ['campaign_name','date','amount_spent', 'impressions','reach','website_clicks','searches','content_view','added_to_cart','purchases']\n",
    "test.columns    = ['campaign_name','date','amount_spent', 'impressions','reach','website_clicks','searches','content_view','added_to_cart','purchases']"
   ]
  },
  {
   "cell_type": "code",
   "execution_count": 7,
   "id": "e579df50",
   "metadata": {},
   "outputs": [],
   "source": [
    "## converting date features to datetime datatype\n",
    "control['date'] = pd.to_datetime(control['date'])\n",
    "test['date']   = pd.to_datetime(test['date'])"
   ]
  },
  {
   "cell_type": "code",
   "execution_count": 8,
   "id": "37208899",
   "metadata": {},
   "outputs": [
    {
     "name": "stdout",
     "output_type": "stream",
     "text": [
      "<class 'pandas.core.frame.DataFrame'>\n",
      "RangeIndex: 30 entries, 0 to 29\n",
      "Data columns (total 10 columns):\n",
      " #   Column          Non-Null Count  Dtype         \n",
      "---  ------          --------------  -----         \n",
      " 0   campaign_name   30 non-null     object        \n",
      " 1   date            30 non-null     datetime64[ns]\n",
      " 2   amount_spent    30 non-null     int64         \n",
      " 3   impressions     29 non-null     float64       \n",
      " 4   reach           29 non-null     float64       \n",
      " 5   website_clicks  29 non-null     float64       \n",
      " 6   searches        29 non-null     float64       \n",
      " 7   content_view    29 non-null     float64       \n",
      " 8   added_to_cart   29 non-null     float64       \n",
      " 9   purchases       29 non-null     float64       \n",
      "dtypes: datetime64[ns](1), float64(7), int64(1), object(1)\n",
      "memory usage: 2.5+ KB\n"
     ]
    }
   ],
   "source": [
    "control.info()"
   ]
  },
  {
   "cell_type": "code",
   "execution_count": 9,
   "id": "53326aea",
   "metadata": {},
   "outputs": [
    {
     "name": "stdout",
     "output_type": "stream",
     "text": [
      "<class 'pandas.core.frame.DataFrame'>\n",
      "RangeIndex: 30 entries, 0 to 29\n",
      "Data columns (total 10 columns):\n",
      " #   Column          Non-Null Count  Dtype         \n",
      "---  ------          --------------  -----         \n",
      " 0   campaign_name   30 non-null     object        \n",
      " 1   date            30 non-null     datetime64[ns]\n",
      " 2   amount_spent    30 non-null     int64         \n",
      " 3   impressions     30 non-null     int64         \n",
      " 4   reach           30 non-null     int64         \n",
      " 5   website_clicks  30 non-null     int64         \n",
      " 6   searches        30 non-null     int64         \n",
      " 7   content_view    30 non-null     int64         \n",
      " 8   added_to_cart   30 non-null     int64         \n",
      " 9   purchases       30 non-null     int64         \n",
      "dtypes: datetime64[ns](1), int64(8), object(1)\n",
      "memory usage: 2.5+ KB\n"
     ]
    }
   ],
   "source": [
    "test.info()"
   ]
  },
  {
   "cell_type": "code",
   "execution_count": 76,
   "id": "1f6da1fb",
   "metadata": {},
   "outputs": [
    {
     "data": {
      "image/png": "[encoded data removed]",
      "text/plain": [
       "<Figure size 432x288 with 1 Axes>"
      ]
     },
     "metadata": {
      "needs_background": "light"
     },
     "output_type": "display_data"
    }
   ],
   "source": [
    "#checking for outliers\n",
    "control.boxplot();\n",
    "plt.xticks(rotation=90);\n",
    "plt.title('Features Box Plot');"
   ]
  },
  {
   "cell_type": "markdown",
   "id": "272d3399",
   "metadata": {},
   "source": [
    "Since our data dosent contain outliers and we have only one missing value per column its safe to replace our missing values with the mean"
   ]
  },
  {
   "cell_type": "code",
   "execution_count": 11,
   "id": "256a87c8",
   "metadata": {},
   "outputs": [
    {
     "data": {
      "text/plain": [
       "campaign_name     0\n",
       "date              0\n",
       "amount_spent      0\n",
       "impressions       1\n",
       "reach             1\n",
       "website_clicks    1\n",
       "searches          1\n",
       "content_view      1\n",
       "added_to_cart     1\n",
       "purchases         1\n",
       "dtype: int64"
      ]
     },
     "execution_count": 11,
     "metadata": {},
     "output_type": "execute_result"
    }
   ],
   "source": [
    "#numbers of missing values \n",
    "control.isna().sum()"
   ]
  },
  {
   "cell_type": "code",
   "execution_count": 12,
   "id": "a0f0cac3",
   "metadata": {},
   "outputs": [],
   "source": [
    "#replacing the missing value in our datasets with the mean\n",
    "columns = ['impressions','reach','website_clicks','searches','content_view','added_to_cart','purchases']\n",
    "for i in columns:\n",
    "    control[i].fillna(np.mean(control[i]),inplace=True)"
   ]
  },
  {
   "cell_type": "code",
   "execution_count": 13,
   "id": "6e7d90fd",
   "metadata": {},
   "outputs": [
    {
     "data": {
      "text/plain": [
       "campaign_name     0\n",
       "date              0\n",
       "amount_spent      0\n",
       "impressions       0\n",
       "reach             0\n",
       "website_clicks    0\n",
       "searches          0\n",
       "content_view      0\n",
       "added_to_cart     0\n",
       "purchases         0\n",
       "dtype: int64"
      ]
     },
     "execution_count": 13,
     "metadata": {},
     "output_type": "execute_result"
    }
   ],
   "source": [
    "control.isna().sum()"
   ]
  },
  {
   "cell_type": "markdown",
   "id": "bd563aba",
   "metadata": {},
   "source": [
    "#### Merging our Control and Test Dataframe"
   ]
  },
  {
   "cell_type": "code",
   "execution_count": 14,
   "id": "560a58d2",
   "metadata": {},
   "outputs": [
    {
     "data": {
      "text/html": [
       "<div>\n",
       "<style scoped>\n",
       "    .dataframe tbody tr th:only-of-type {\n",
       "        vertical-align: middle;\n",
       "    }\n",
       "\n",
       "    .dataframe tbody tr th {\n",
       "        vertical-align: top;\n",
       "    }\n",
       "\n",
       "    .dataframe thead th {\n",
       "        text-align: right;\n",
       "    }\n",
       "</style>\n",
       "<table border=\"1\" class=\"dataframe\">\n",
       "  <thead>\n",
       "    <tr style=\"text-align: right;\">\n",
       "      <th></th>\n",
       "      <th>campaign_name</th>\n",
       "      <th>date</th>\n",
       "      <th>amount_spent</th>\n",
       "      <th>impressions</th>\n",
       "      <th>reach</th>\n",
       "      <th>website_clicks</th>\n",
       "      <th>searches</th>\n",
       "      <th>content_view</th>\n",
       "      <th>added_to_cart</th>\n",
       "      <th>purchases</th>\n",
       "    </tr>\n",
       "  </thead>\n",
       "  <tbody>\n",
       "    <tr>\n",
       "      <th>0</th>\n",
       "      <td>Control Campaign</td>\n",
       "      <td>2019-01-08</td>\n",
       "      <td>2280</td>\n",
       "      <td>82702.0</td>\n",
       "      <td>56930.0</td>\n",
       "      <td>7016.0</td>\n",
       "      <td>2290.0</td>\n",
       "      <td>2159.0</td>\n",
       "      <td>1819.0</td>\n",
       "      <td>618.0</td>\n",
       "    </tr>\n",
       "    <tr>\n",
       "      <th>1</th>\n",
       "      <td>Control Campaign</td>\n",
       "      <td>2019-02-08</td>\n",
       "      <td>1757</td>\n",
       "      <td>121040.0</td>\n",
       "      <td>102513.0</td>\n",
       "      <td>8110.0</td>\n",
       "      <td>2033.0</td>\n",
       "      <td>1841.0</td>\n",
       "      <td>1219.0</td>\n",
       "      <td>511.0</td>\n",
       "    </tr>\n",
       "  </tbody>\n",
       "</table>\n",
       "</div>"
      ],
      "text/plain": [
       "      campaign_name       date  amount_spent  impressions     reach  \\\n",
       "0  Control Campaign 2019-01-08          2280      82702.0   56930.0   \n",
       "1  Control Campaign 2019-02-08          1757     121040.0  102513.0   \n",
       "\n",
       "   website_clicks  searches  content_view  added_to_cart  purchases  \n",
       "0          7016.0    2290.0        2159.0         1819.0      618.0  \n",
       "1          8110.0    2033.0        1841.0         1219.0      511.0  "
      ]
     },
     "execution_count": 14,
     "metadata": {},
     "output_type": "execute_result"
    }
   ],
   "source": [
    "control.head(2)"
   ]
  },
  {
   "cell_type": "code",
   "execution_count": 15,
   "id": "7926a55d",
   "metadata": {},
   "outputs": [
    {
     "data": {
      "text/html": [
       "<div>\n",
       "<style scoped>\n",
       "    .dataframe tbody tr th:only-of-type {\n",
       "        vertical-align: middle;\n",
       "    }\n",
       "\n",
       "    .dataframe tbody tr th {\n",
       "        vertical-align: top;\n",
       "    }\n",
       "\n",
       "    .dataframe thead th {\n",
       "        text-align: right;\n",
       "    }\n",
       "</style>\n",
       "<table border=\"1\" class=\"dataframe\">\n",
       "  <thead>\n",
       "    <tr style=\"text-align: right;\">\n",
       "      <th></th>\n",
       "      <th>campaign_name</th>\n",
       "      <th>date</th>\n",
       "      <th>amount_spent</th>\n",
       "      <th>impressions</th>\n",
       "      <th>reach</th>\n",
       "      <th>website_clicks</th>\n",
       "      <th>searches</th>\n",
       "      <th>content_view</th>\n",
       "      <th>added_to_cart</th>\n",
       "      <th>purchases</th>\n",
       "    </tr>\n",
       "  </thead>\n",
       "  <tbody>\n",
       "    <tr>\n",
       "      <th>0</th>\n",
       "      <td>Test Campaign</td>\n",
       "      <td>2019-01-08</td>\n",
       "      <td>3008</td>\n",
       "      <td>39550</td>\n",
       "      <td>35820</td>\n",
       "      <td>3038</td>\n",
       "      <td>1946</td>\n",
       "      <td>1069</td>\n",
       "      <td>894</td>\n",
       "      <td>255</td>\n",
       "    </tr>\n",
       "    <tr>\n",
       "      <th>1</th>\n",
       "      <td>Test Campaign</td>\n",
       "      <td>2019-02-08</td>\n",
       "      <td>2542</td>\n",
       "      <td>100719</td>\n",
       "      <td>91236</td>\n",
       "      <td>4657</td>\n",
       "      <td>2359</td>\n",
       "      <td>1548</td>\n",
       "      <td>879</td>\n",
       "      <td>677</td>\n",
       "    </tr>\n",
       "  </tbody>\n",
       "</table>\n",
       "</div>"
      ],
      "text/plain": [
       "   campaign_name       date  amount_spent  impressions  reach  website_clicks  \\\n",
       "0  Test Campaign 2019-01-08          3008        39550  35820            3038   \n",
       "1  Test Campaign 2019-02-08          2542       100719  91236            4657   \n",
       "\n",
       "   searches  content_view  added_to_cart  purchases  \n",
       "0      1946          1069            894        255  \n",
       "1      2359          1548            879        677  "
      ]
     },
     "execution_count": 15,
     "metadata": {},
     "output_type": "execute_result"
    }
   ],
   "source": [
    "test.head(2)"
   ]
  },
  {
   "cell_type": "code",
   "execution_count": 16,
   "id": "0480eba9",
   "metadata": {},
   "outputs": [],
   "source": [
    "df = control.merge(test,how='outer').sort_values(by='date').reset_index().drop('index',axis=1)"
   ]
  },
  {
   "cell_type": "code",
   "execution_count": 17,
   "id": "de3f1ce3",
   "metadata": {},
   "outputs": [
    {
     "data": {
      "text/html": [
       "<div>\n",
       "<style scoped>\n",
       "    .dataframe tbody tr th:only-of-type {\n",
       "        vertical-align: middle;\n",
       "    }\n",
       "\n",
       "    .dataframe tbody tr th {\n",
       "        vertical-align: top;\n",
       "    }\n",
       "\n",
       "    .dataframe thead th {\n",
       "        text-align: right;\n",
       "    }\n",
       "</style>\n",
       "<table border=\"1\" class=\"dataframe\">\n",
       "  <thead>\n",
       "    <tr style=\"text-align: right;\">\n",
       "      <th></th>\n",
       "      <th>campaign_name</th>\n",
       "      <th>date</th>\n",
       "      <th>amount_spent</th>\n",
       "      <th>impressions</th>\n",
       "      <th>reach</th>\n",
       "      <th>website_clicks</th>\n",
       "      <th>searches</th>\n",
       "      <th>content_view</th>\n",
       "      <th>added_to_cart</th>\n",
       "      <th>purchases</th>\n",
       "    </tr>\n",
       "  </thead>\n",
       "  <tbody>\n",
       "    <tr>\n",
       "      <th>0</th>\n",
       "      <td>Control Campaign</td>\n",
       "      <td>2019-01-08</td>\n",
       "      <td>2280</td>\n",
       "      <td>82702.0</td>\n",
       "      <td>56930.0</td>\n",
       "      <td>7016.0</td>\n",
       "      <td>2290.0</td>\n",
       "      <td>2159.0</td>\n",
       "      <td>1819.0</td>\n",
       "      <td>618.0</td>\n",
       "    </tr>\n",
       "    <tr>\n",
       "      <th>1</th>\n",
       "      <td>Test Campaign</td>\n",
       "      <td>2019-01-08</td>\n",
       "      <td>3008</td>\n",
       "      <td>39550.0</td>\n",
       "      <td>35820.0</td>\n",
       "      <td>3038.0</td>\n",
       "      <td>1946.0</td>\n",
       "      <td>1069.0</td>\n",
       "      <td>894.0</td>\n",
       "      <td>255.0</td>\n",
       "    </tr>\n",
       "    <tr>\n",
       "      <th>2</th>\n",
       "      <td>Control Campaign</td>\n",
       "      <td>2019-02-08</td>\n",
       "      <td>1757</td>\n",
       "      <td>121040.0</td>\n",
       "      <td>102513.0</td>\n",
       "      <td>8110.0</td>\n",
       "      <td>2033.0</td>\n",
       "      <td>1841.0</td>\n",
       "      <td>1219.0</td>\n",
       "      <td>511.0</td>\n",
       "    </tr>\n",
       "    <tr>\n",
       "      <th>3</th>\n",
       "      <td>Test Campaign</td>\n",
       "      <td>2019-02-08</td>\n",
       "      <td>2542</td>\n",
       "      <td>100719.0</td>\n",
       "      <td>91236.0</td>\n",
       "      <td>4657.0</td>\n",
       "      <td>2359.0</td>\n",
       "      <td>1548.0</td>\n",
       "      <td>879.0</td>\n",
       "      <td>677.0</td>\n",
       "    </tr>\n",
       "    <tr>\n",
       "      <th>4</th>\n",
       "      <td>Control Campaign</td>\n",
       "      <td>2019-03-08</td>\n",
       "      <td>2343</td>\n",
       "      <td>131711.0</td>\n",
       "      <td>110862.0</td>\n",
       "      <td>6508.0</td>\n",
       "      <td>1737.0</td>\n",
       "      <td>1549.0</td>\n",
       "      <td>1134.0</td>\n",
       "      <td>372.0</td>\n",
       "    </tr>\n",
       "  </tbody>\n",
       "</table>\n",
       "</div>"
      ],
      "text/plain": [
       "      campaign_name       date  amount_spent  impressions     reach  \\\n",
       "0  Control Campaign 2019-01-08          2280      82702.0   56930.0   \n",
       "1     Test Campaign 2019-01-08          3008      39550.0   35820.0   \n",
       "2  Control Campaign 2019-02-08          1757     121040.0  102513.0   \n",
       "3     Test Campaign 2019-02-08          2542     100719.0   91236.0   \n",
       "4  Control Campaign 2019-03-08          2343     131711.0  110862.0   \n",
       "\n",
       "   website_clicks  searches  content_view  added_to_cart  purchases  \n",
       "0          7016.0    2290.0        2159.0         1819.0      618.0  \n",
       "1          3038.0    1946.0        1069.0          894.0      255.0  \n",
       "2          8110.0    2033.0        1841.0         1219.0      511.0  \n",
       "3          4657.0    2359.0        1548.0          879.0      677.0  \n",
       "4          6508.0    1737.0        1549.0         1134.0      372.0  "
      ]
     },
     "execution_count": 17,
     "metadata": {},
     "output_type": "execute_result"
    }
   ],
   "source": [
    "df.head()"
   ]
  },
  {
   "cell_type": "markdown",
   "id": "e5286224",
   "metadata": {},
   "source": [
    "<a id='kpi'></a>\n",
    "## Calculating KPI's"
   ]
  },
  {
   "cell_type": "code",
   "execution_count": 82,
   "id": "d5dba054",
   "metadata": {},
   "outputs": [],
   "source": [
    "#Cost Per Impression(CPI)\n",
    "df['CPI'] = (df['amount_spent']/df['impressions']) *1000\n",
    "\n",
    "#Click Through Rate(CTR)\n",
    "df['CTR'] = (df['website_clicks']/df['impressions'])*100\n",
    "\n",
    "#Cost Per Click(CPC)\n",
    "df['CPC'] = (df['amount_spent']/df['website_clicks'])*100\n",
    "\n",
    "#Conversion Rate(CR)\n",
    "df['CR'] = (df['purchases']/df['website_clicks'])*100\n",
    "\n",
    "#Cost Per Conversion(CPC)\n",
    "df['CPConv'] = (df['amount_spent']/df['purchases'])\n",
    "\n",
    "#Added to Cart Rate\n",
    "df['ACR'] = (df['added_to_cart']/df['website_clicks'])*100\n",
    "\n",
    "\n"
   ]
  },
  {
   "cell_type": "code",
   "execution_count": 83,
   "id": "fcbb192b",
   "metadata": {},
   "outputs": [
    {
     "data": {
      "text/html": [
       "<div>\n",
       "<style scoped>\n",
       "    .dataframe tbody tr th:only-of-type {\n",
       "        vertical-align: middle;\n",
       "    }\n",
       "\n",
       "    .dataframe tbody tr th {\n",
       "        vertical-align: top;\n",
       "    }\n",
       "\n",
       "    .dataframe thead th {\n",
       "        text-align: right;\n",
       "    }\n",
       "</style>\n",
       "<table border=\"1\" class=\"dataframe\">\n",
       "  <thead>\n",
       "    <tr style=\"text-align: right;\">\n",
       "      <th></th>\n",
       "      <th>campaign_name</th>\n",
       "      <th>date</th>\n",
       "      <th>amount_spent</th>\n",
       "      <th>impressions</th>\n",
       "      <th>reach</th>\n",
       "      <th>website_clicks</th>\n",
       "      <th>searches</th>\n",
       "      <th>content_view</th>\n",
       "      <th>added_to_cart</th>\n",
       "      <th>purchases</th>\n",
       "      <th>CPI</th>\n",
       "      <th>CTR</th>\n",
       "      <th>CPC</th>\n",
       "      <th>CR</th>\n",
       "      <th>CPConv</th>\n",
       "      <th>ACR</th>\n",
       "    </tr>\n",
       "  </thead>\n",
       "  <tbody>\n",
       "    <tr>\n",
       "      <th>0</th>\n",
       "      <td>Control Campaign</td>\n",
       "      <td>2019-01-08</td>\n",
       "      <td>2280</td>\n",
       "      <td>82702.0</td>\n",
       "      <td>56930.0</td>\n",
       "      <td>7016.0</td>\n",
       "      <td>2290.0</td>\n",
       "      <td>2159.0</td>\n",
       "      <td>1819.0</td>\n",
       "      <td>618.0</td>\n",
       "      <td>27.568862</td>\n",
       "      <td>8.483471</td>\n",
       "      <td>32.497149</td>\n",
       "      <td>8.808438</td>\n",
       "      <td>3.689320</td>\n",
       "      <td>25.926454</td>\n",
       "    </tr>\n",
       "    <tr>\n",
       "      <th>1</th>\n",
       "      <td>Test Campaign</td>\n",
       "      <td>2019-01-08</td>\n",
       "      <td>3008</td>\n",
       "      <td>39550.0</td>\n",
       "      <td>35820.0</td>\n",
       "      <td>3038.0</td>\n",
       "      <td>1946.0</td>\n",
       "      <td>1069.0</td>\n",
       "      <td>894.0</td>\n",
       "      <td>255.0</td>\n",
       "      <td>76.055626</td>\n",
       "      <td>7.681416</td>\n",
       "      <td>99.012508</td>\n",
       "      <td>8.393680</td>\n",
       "      <td>11.796078</td>\n",
       "      <td>29.427255</td>\n",
       "    </tr>\n",
       "    <tr>\n",
       "      <th>2</th>\n",
       "      <td>Control Campaign</td>\n",
       "      <td>2019-02-08</td>\n",
       "      <td>1757</td>\n",
       "      <td>121040.0</td>\n",
       "      <td>102513.0</td>\n",
       "      <td>8110.0</td>\n",
       "      <td>2033.0</td>\n",
       "      <td>1841.0</td>\n",
       "      <td>1219.0</td>\n",
       "      <td>511.0</td>\n",
       "      <td>14.515863</td>\n",
       "      <td>6.700264</td>\n",
       "      <td>21.664612</td>\n",
       "      <td>6.300863</td>\n",
       "      <td>3.438356</td>\n",
       "      <td>15.030826</td>\n",
       "    </tr>\n",
       "    <tr>\n",
       "      <th>3</th>\n",
       "      <td>Test Campaign</td>\n",
       "      <td>2019-02-08</td>\n",
       "      <td>2542</td>\n",
       "      <td>100719.0</td>\n",
       "      <td>91236.0</td>\n",
       "      <td>4657.0</td>\n",
       "      <td>2359.0</td>\n",
       "      <td>1548.0</td>\n",
       "      <td>879.0</td>\n",
       "      <td>677.0</td>\n",
       "      <td>25.238535</td>\n",
       "      <td>4.623755</td>\n",
       "      <td>54.584496</td>\n",
       "      <td>14.537256</td>\n",
       "      <td>3.754801</td>\n",
       "      <td>18.874812</td>\n",
       "    </tr>\n",
       "    <tr>\n",
       "      <th>4</th>\n",
       "      <td>Control Campaign</td>\n",
       "      <td>2019-03-08</td>\n",
       "      <td>2343</td>\n",
       "      <td>131711.0</td>\n",
       "      <td>110862.0</td>\n",
       "      <td>6508.0</td>\n",
       "      <td>1737.0</td>\n",
       "      <td>1549.0</td>\n",
       "      <td>1134.0</td>\n",
       "      <td>372.0</td>\n",
       "      <td>17.788947</td>\n",
       "      <td>4.941121</td>\n",
       "      <td>36.001844</td>\n",
       "      <td>5.716042</td>\n",
       "      <td>6.298387</td>\n",
       "      <td>17.424708</td>\n",
       "    </tr>\n",
       "  </tbody>\n",
       "</table>\n",
       "</div>"
      ],
      "text/plain": [
       "      campaign_name       date  amount_spent  impressions     reach  \\\n",
       "0  Control Campaign 2019-01-08          2280      82702.0   56930.0   \n",
       "1     Test Campaign 2019-01-08          3008      39550.0   35820.0   \n",
       "2  Control Campaign 2019-02-08          1757     121040.0  102513.0   \n",
       "3     Test Campaign 2019-02-08          2542     100719.0   91236.0   \n",
       "4  Control Campaign 2019-03-08          2343     131711.0  110862.0   \n",
       "\n",
       "   website_clicks  searches  content_view  added_to_cart  purchases  \\\n",
       "0          7016.0    2290.0        2159.0         1819.0      618.0   \n",
       "1          3038.0    1946.0        1069.0          894.0      255.0   \n",
       "2          8110.0    2033.0        1841.0         1219.0      511.0   \n",
       "3          4657.0    2359.0        1548.0          879.0      677.0   \n",
       "4          6508.0    1737.0        1549.0         1134.0      372.0   \n",
       "\n",
       "         CPI       CTR        CPC         CR     CPConv        ACR  \n",
       "0  27.568862  8.483471  32.497149   8.808438   3.689320  25.926454  \n",
       "1  76.055626  7.681416  99.012508   8.393680  11.796078  29.427255  \n",
       "2  14.515863  6.700264  21.664612   6.300863   3.438356  15.030826  \n",
       "3  25.238535  4.623755  54.584496  14.537256   3.754801  18.874812  \n",
       "4  17.788947  4.941121  36.001844   5.716042   6.298387  17.424708  "
      ]
     },
     "execution_count": 83,
     "metadata": {},
     "output_type": "execute_result"
    }
   ],
   "source": [
    "df.head()"
   ]
  },
  {
   "cell_type": "code",
   "execution_count": 103,
   "id": "dbc6bdc7",
   "metadata": {},
   "outputs": [],
   "source": [
    "#saving the combined dataframe with engineered features\n",
    "df.to_csv('campaign.csv')"
   ]
  },
  {
   "cell_type": "markdown",
   "id": "f01a54d1",
   "metadata": {},
   "source": [
    "<a id='kpi_insights'></a>\n",
    "## Generating Insights from KPI's"
   ]
  },
  {
   "cell_type": "markdown",
   "id": "3486f6cd",
   "metadata": {},
   "source": [
    "### 1. Lets calculate the Average Cost Per 1000 Impression, grouping it by the type of Marketing Campaign. "
   ]
  },
  {
   "cell_type": "code",
   "execution_count": 23,
   "id": "a9a111e4",
   "metadata": {},
   "outputs": [
    {
     "data": {
      "text/html": [
       "<div>\n",
       "<style scoped>\n",
       "    .dataframe tbody tr th:only-of-type {\n",
       "        vertical-align: middle;\n",
       "    }\n",
       "\n",
       "    .dataframe tbody tr th {\n",
       "        vertical-align: top;\n",
       "    }\n",
       "\n",
       "    .dataframe thead th {\n",
       "        text-align: right;\n",
       "    }\n",
       "</style>\n",
       "<table border=\"1\" class=\"dataframe\">\n",
       "  <thead>\n",
       "    <tr style=\"text-align: right;\">\n",
       "      <th></th>\n",
       "      <th>campaign_name</th>\n",
       "      <th>CPI</th>\n",
       "    </tr>\n",
       "  </thead>\n",
       "  <tbody>\n",
       "    <tr>\n",
       "      <th>0</th>\n",
       "      <td>Control Campaign</td>\n",
       "      <td>21.550149</td>\n",
       "    </tr>\n",
       "    <tr>\n",
       "      <th>1</th>\n",
       "      <td>Test Campaign</td>\n",
       "      <td>42.681041</td>\n",
       "    </tr>\n",
       "  </tbody>\n",
       "</table>\n",
       "</div>"
      ],
      "text/plain": [
       "      campaign_name        CPI\n",
       "0  Control Campaign  21.550149\n",
       "1     Test Campaign  42.681041"
      ]
     },
     "execution_count": 23,
     "metadata": {},
     "output_type": "execute_result"
    }
   ],
   "source": [
    "campaign_cpi = df.groupby('campaign_name')['CPI'].mean().reset_index()\n",
    "campaign_cpi"
   ]
  },
  {
   "cell_type": "markdown",
   "id": "30c88368",
   "metadata": {},
   "source": [
    "#### Explanation:"
   ]
  },
  {
   "cell_type": "markdown",
   "id": "751146d2",
   "metadata": {},
   "source": [
    "Here, it shows that the Control campaign costs the business less per 1000 impression than the Test Campaign i.e With the Test Campaign it costs the business twice as much as the Control campaign."
   ]
  },
  {
   "cell_type": "markdown",
   "id": "43f7c9df",
   "metadata": {},
   "source": [
    "<b><i>So the Control Campaign shows a better COST PER IMPRESSION Metric</i></b>"
   ]
  },
  {
   "cell_type": "markdown",
   "id": "fdb45105",
   "metadata": {},
   "source": [
    "### 2. Let's Calculate the average CLick Through Rate, to find out which impression generates more website click (i.e determine which campaign generate more interaction with the website )"
   ]
  },
  {
   "cell_type": "code",
   "execution_count": 36,
   "id": "2d643683",
   "metadata": {},
   "outputs": [
    {
     "data": {
      "text/html": [
       "<div>\n",
       "<style scoped>\n",
       "    .dataframe tbody tr th:only-of-type {\n",
       "        vertical-align: middle;\n",
       "    }\n",
       "\n",
       "    .dataframe tbody tr th {\n",
       "        vertical-align: top;\n",
       "    }\n",
       "\n",
       "    .dataframe thead th {\n",
       "        text-align: right;\n",
       "    }\n",
       "</style>\n",
       "<table border=\"1\" class=\"dataframe\">\n",
       "  <thead>\n",
       "    <tr style=\"text-align: right;\">\n",
       "      <th></th>\n",
       "      <th>campaign_name</th>\n",
       "      <th>CTR</th>\n",
       "    </tr>\n",
       "  </thead>\n",
       "  <tbody>\n",
       "    <tr>\n",
       "      <th>0</th>\n",
       "      <td>Control Campaign</td>\n",
       "      <td>5.087893</td>\n",
       "    </tr>\n",
       "    <tr>\n",
       "      <th>1</th>\n",
       "      <td>Test Campaign</td>\n",
       "      <td>10.242260</td>\n",
       "    </tr>\n",
       "  </tbody>\n",
       "</table>\n",
       "</div>"
      ],
      "text/plain": [
       "      campaign_name        CTR\n",
       "0  Control Campaign   5.087893\n",
       "1     Test Campaign  10.242260"
      ]
     },
     "execution_count": 36,
     "metadata": {},
     "output_type": "execute_result"
    }
   ],
   "source": [
    "campaign_ctr = df.groupby('campaign_name')['CTR'].mean().reset_index()\n",
    "campaign_ctr"
   ]
  },
  {
   "cell_type": "code",
   "execution_count": 73,
   "id": "d71ba164",
   "metadata": {},
   "outputs": [
    {
     "data": {
      "image/png": "[encoded data removed]",
      "text/plain": [
       "<Figure size 720x432 with 1 Axes>"
      ]
     },
     "metadata": {},
     "output_type": "display_data"
    }
   ],
   "source": [
    "values = campaign_ctr['CTR']\n",
    "labels = campaign_ctr['campaign_name']\n",
    "colors = ['Grey','Pink']\n",
    "plt.figure(figsize=(10,6))\n",
    "plt.pie(values,labels=labels,autopct='%1.1f%%',colors=colors);\n",
    "plt.title (\"Click Through Rate Comparison\");"
   ]
  },
  {
   "cell_type": "markdown",
   "id": "653c15e8",
   "metadata": {},
   "source": [
    "#### Explanation:"
   ]
  },
  {
   "cell_type": "markdown",
   "id": "2f6cbbd1",
   "metadata": {},
   "source": [
    "Looking at the the Click through Rate Metric for both campaigns 66% of people that engaged with the website by clicking on the link are as a Result of the Test Campaign."
   ]
  },
  {
   "cell_type": "markdown",
   "id": "f70915e8",
   "metadata": {},
   "source": [
    "<b>The Test Campaign Perfoms well for better engagement.<i> i.e A Better Click Through Rate Metric</i> than the Control Metric</b>"
   ]
  },
  {
   "cell_type": "markdown",
   "id": "77939f75",
   "metadata": {},
   "source": [
    "### 3. Now, let’s calculate the average cost per click (CPC) for each Marketing campaign. And find out, which campaign costs less per click."
   ]
  },
  {
   "cell_type": "code",
   "execution_count": 49,
   "id": "f609a3b2",
   "metadata": {},
   "outputs": [
    {
     "data": {
      "text/html": [
       "<div>\n",
       "<style scoped>\n",
       "    .dataframe tbody tr th:only-of-type {\n",
       "        vertical-align: middle;\n",
       "    }\n",
       "\n",
       "    .dataframe tbody tr th {\n",
       "        vertical-align: top;\n",
       "    }\n",
       "\n",
       "    .dataframe thead th {\n",
       "        text-align: right;\n",
       "    }\n",
       "</style>\n",
       "<table border=\"1\" class=\"dataframe\">\n",
       "  <thead>\n",
       "    <tr style=\"text-align: right;\">\n",
       "      <th></th>\n",
       "      <th>campaign_name</th>\n",
       "      <th>CPC</th>\n",
       "    </tr>\n",
       "  </thead>\n",
       "  <tbody>\n",
       "    <tr>\n",
       "      <th>0</th>\n",
       "      <td>Control Campaign</td>\n",
       "      <td>48.990673</td>\n",
       "    </tr>\n",
       "    <tr>\n",
       "      <th>1</th>\n",
       "      <td>Test Campaign</td>\n",
       "      <td>46.871784</td>\n",
       "    </tr>\n",
       "  </tbody>\n",
       "</table>\n",
       "</div>"
      ],
      "text/plain": [
       "      campaign_name        CPC\n",
       "0  Control Campaign  48.990673\n",
       "1     Test Campaign  46.871784"
      ]
     },
     "execution_count": 49,
     "metadata": {},
     "output_type": "execute_result"
    }
   ],
   "source": [
    "campaign_cpc = df.groupby('campaign_name')['CPC'].mean().reset_index()\n",
    "campaign_cpc"
   ]
  },
  {
   "cell_type": "markdown",
   "id": "6d38baa1",
   "metadata": {},
   "source": [
    "#### Explanation:"
   ]
  },
  {
   "cell_type": "markdown",
   "id": "8f1f5432",
   "metadata": {},
   "source": [
    "Both the Control and Test Camapign cost approximately the same amount(~49) per 100 clicks to the increase engagements with their website i.e more website clicks "
   ]
  },
  {
   "cell_type": "markdown",
   "id": "eee691ab",
   "metadata": {},
   "source": [
    "<b>But, Control campaign is a slightly costlier than the Test campaign for 100 click. So, with low CPC, <i>Test campaign seems good for the business<i/>.</b>"
   ]
  },
  {
   "cell_type": "markdown",
   "id": "414341be",
   "metadata": {},
   "source": [
    "### 4. Now, we can compare the rate at which visiting customers add atleast oneproduct to their cart. Let’s find out which campaign shows better ACR"
   ]
  },
  {
   "cell_type": "code",
   "execution_count": 56,
   "id": "18f72595",
   "metadata": {},
   "outputs": [
    {
     "data": {
      "text/html": [
       "<div>\n",
       "<style scoped>\n",
       "    .dataframe tbody tr th:only-of-type {\n",
       "        vertical-align: middle;\n",
       "    }\n",
       "\n",
       "    .dataframe tbody tr th {\n",
       "        vertical-align: top;\n",
       "    }\n",
       "\n",
       "    .dataframe thead th {\n",
       "        text-align: right;\n",
       "    }\n",
       "</style>\n",
       "<table border=\"1\" class=\"dataframe\">\n",
       "  <thead>\n",
       "    <tr style=\"text-align: right;\">\n",
       "      <th></th>\n",
       "      <th>campaign_name</th>\n",
       "      <th>ACR</th>\n",
       "    </tr>\n",
       "  </thead>\n",
       "  <tbody>\n",
       "    <tr>\n",
       "      <th>0</th>\n",
       "      <td>Control Campaign</td>\n",
       "      <td>27.707909</td>\n",
       "    </tr>\n",
       "    <tr>\n",
       "      <th>1</th>\n",
       "      <td>Test Campaign</td>\n",
       "      <td>15.791233</td>\n",
       "    </tr>\n",
       "  </tbody>\n",
       "</table>\n",
       "</div>"
      ],
      "text/plain": [
       "      campaign_name        ACR\n",
       "0  Control Campaign  27.707909\n",
       "1     Test Campaign  15.791233"
      ]
     },
     "execution_count": 56,
     "metadata": {},
     "output_type": "execute_result"
    }
   ],
   "source": [
    "campaign_acr = df.groupby('campaign_name')['ACR'].mean().reset_index()\n",
    "campaign_acr"
   ]
  },
  {
   "cell_type": "code",
   "execution_count": 72,
   "id": "60e4b6f1",
   "metadata": {},
   "outputs": [
    {
     "data": {
      "image/png": "[encoded data removed]",
      "text/plain": [
       "<Figure size 720x432 with 1 Axes>"
      ]
     },
     "metadata": {},
     "output_type": "display_data"
    }
   ],
   "source": [
    "values = campaign_acr['ACR']\n",
    "labels = campaign_acr['campaign_name']\n",
    "colors = ['Grey','Pink']\n",
    "plt.figure(figsize=(10,6))\n",
    "plt.pie(values, labels = labels, autopct='%1.1f%%',colors=colors)\n",
    "plt.title('ACR Comparison')\n",
    "plt.show()\n"
   ]
  },
  {
   "cell_type": "markdown",
   "id": "2e8ec0f1",
   "metadata": {},
   "source": [
    "#### Explanation:"
   ]
  },
  {
   "cell_type": "markdown",
   "id": "f8f58531",
   "metadata": {},
   "source": [
    "The Charts table shows the Control Campaigns has a larger pull in convincing its customer in adding a particular item/product to its cart. i.e Majority of customers(63.7%) that clicked on the website and added a product to their cart is as a result of the Control campaign "
   ]
  },
  {
   "cell_type": "markdown",
   "id": "e375edc8",
   "metadata": {},
   "source": [
    "<b><i> The Control Campaign has a higher Add to Cart Metric</i></b>"
   ]
  },
  {
   "cell_type": "markdown",
   "id": "db7e2652",
   "metadata": {},
   "source": [
    "### 5. Now, Let’s look one of the most important metric, comparing the conversion rate (CR) of both the marketing campaigns and findout which campaign turns its Potential customers to an Actual Customers"
   ]
  },
  {
   "cell_type": "code",
   "execution_count": 62,
   "id": "c4186c70",
   "metadata": {},
   "outputs": [
    {
     "data": {
      "text/html": [
       "<div>\n",
       "<style scoped>\n",
       "    .dataframe tbody tr th:only-of-type {\n",
       "        vertical-align: middle;\n",
       "    }\n",
       "\n",
       "    .dataframe tbody tr th {\n",
       "        vertical-align: top;\n",
       "    }\n",
       "\n",
       "    .dataframe thead th {\n",
       "        text-align: right;\n",
       "    }\n",
       "</style>\n",
       "<table border=\"1\" class=\"dataframe\">\n",
       "  <thead>\n",
       "    <tr style=\"text-align: right;\">\n",
       "      <th></th>\n",
       "      <th>campaign_name</th>\n",
       "      <th>CR</th>\n",
       "    </tr>\n",
       "  </thead>\n",
       "  <tbody>\n",
       "    <tr>\n",
       "      <th>0</th>\n",
       "      <td>Control Campaign</td>\n",
       "      <td>11.422146</td>\n",
       "    </tr>\n",
       "    <tr>\n",
       "      <th>1</th>\n",
       "      <td>Test Campaign</td>\n",
       "      <td>9.231182</td>\n",
       "    </tr>\n",
       "  </tbody>\n",
       "</table>\n",
       "</div>"
      ],
      "text/plain": [
       "      campaign_name         CR\n",
       "0  Control Campaign  11.422146\n",
       "1     Test Campaign   9.231182"
      ]
     },
     "execution_count": 62,
     "metadata": {},
     "output_type": "execute_result"
    }
   ],
   "source": [
    "campaign_cr = df.groupby('campaign_name')['CR'].mean().reset_index()\n",
    "campaign_cr"
   ]
  },
  {
   "cell_type": "code",
   "execution_count": 71,
   "id": "50be2052",
   "metadata": {},
   "outputs": [
    {
     "data": {
      "image/png": "[encoded data removed]",
      "text/plain": [
       "<Figure size 720x432 with 1 Axes>"
      ]
     },
     "metadata": {},
     "output_type": "display_data"
    }
   ],
   "source": [
    "values = campaign_cr['CR']\n",
    "labels = campaign_cr['campaign_name']\n",
    "colors = ['Grey','Pink']\n",
    "plt.figure(figsize=(10,6))\n",
    "plt.pie(values, labels = labels, colors = colors, autopct='%1.1f%%')\n",
    "plt.title('Conversion Rate Comparison')\n",
    "plt.show()"
   ]
  },
  {
   "cell_type": "markdown",
   "id": "aae14bb0",
   "metadata": {},
   "source": [
    "#### Explanation:"
   ]
  },
  {
   "cell_type": "markdown",
   "id": "2c76f7c5",
   "metadata": {},
   "source": [
    "Looking at the proportion of the customers the made a purchase as result of the marketing campaign. The Control campaign as the best Convertion Rate as 55.3% of customers that made purchases was a result of the Control Campaign"
   ]
  },
  {
   "cell_type": "markdown",
   "id": "2001bf3c",
   "metadata": {},
   "source": [
    "<b><i> Control Campaign as the highest Conversation Rate Metric </i></b>"
   ]
  },
  {
   "cell_type": "markdown",
   "id": "8fe65dd8",
   "metadata": {},
   "source": [
    "### 6. Lastly, Let’s calculate the average amount paid for each conversion of visiting customerto an actual customer of both the campaigns. And, find out which costs less between the two marketing campaign"
   ]
  },
  {
   "cell_type": "code",
   "execution_count": 84,
   "id": "8ef682bf",
   "metadata": {},
   "outputs": [
    {
     "data": {
      "text/html": [
       "<div>\n",
       "<style scoped>\n",
       "    .dataframe tbody tr th:only-of-type {\n",
       "        vertical-align: middle;\n",
       "    }\n",
       "\n",
       "    .dataframe tbody tr th {\n",
       "        vertical-align: top;\n",
       "    }\n",
       "\n",
       "    .dataframe thead th {\n",
       "        text-align: right;\n",
       "    }\n",
       "</style>\n",
       "<table border=\"1\" class=\"dataframe\">\n",
       "  <thead>\n",
       "    <tr style=\"text-align: right;\">\n",
       "      <th></th>\n",
       "      <th>campaign_name</th>\n",
       "      <th>CPConv</th>\n",
       "    </tr>\n",
       "  </thead>\n",
       "  <tbody>\n",
       "    <tr>\n",
       "      <th>0</th>\n",
       "      <td>Control Campaign</td>\n",
       "      <td>5.000927</td>\n",
       "    </tr>\n",
       "    <tr>\n",
       "      <th>1</th>\n",
       "      <td>Test Campaign</td>\n",
       "      <td>5.899589</td>\n",
       "    </tr>\n",
       "  </tbody>\n",
       "</table>\n",
       "</div>"
      ],
      "text/plain": [
       "      campaign_name    CPConv\n",
       "0  Control Campaign  5.000927\n",
       "1     Test Campaign  5.899589"
      ]
     },
     "execution_count": 84,
     "metadata": {},
     "output_type": "execute_result"
    }
   ],
   "source": [
    "campaign_cpconv = df.groupby('campaign_name')['CPConv'].mean().reset_index()\n",
    "campaign_cpconv"
   ]
  },
  {
   "cell_type": "markdown",
   "id": "35703fa0",
   "metadata": {},
   "source": [
    "#### Explanantion:"
   ]
  },
  {
   "cell_type": "markdown",
   "id": "6189e47d",
   "metadata": {},
   "source": [
    "In the above table, It shows that test campaign costs more than control campaign to secure acustomer. So, in this case, Control campaign seems better than test campaign."
   ]
  },
  {
   "cell_type": "markdown",
   "id": "dea0d2a2",
   "metadata": {},
   "source": [
    "<b><i>Control Campaign is a better Cost Per Conversation Metric. i.e its cost less to get an acutal customer</i></b>"
   ]
  },
  {
   "cell_type": "markdown",
   "id": "b3ddbba5",
   "metadata": {},
   "source": [
    "<a id='insights'></a>\n",
    "## CONCLUSION"
   ]
  },
  {
   "cell_type": "markdown",
   "id": "55f3aae8",
   "metadata": {},
   "source": [
    "### Insights\n",
    "- The Control Campaign has lower average Cost Per Impression (CPI) compared  to the Test Campaign, signifying a lesser cost for generating a thousand impressions\n"
   ]
  },
  {
   "cell_type": "markdown",
   "id": "0811ef6c",
   "metadata": {},
   "source": [
    "- The Test Campaign has a higher Click Through Rate (CTR) avergae than The Control Campaign, suggesting the Test campaign appeals more to the customers curosity "
   ]
  },
  {
   "cell_type": "markdown",
   "id": "399d244c",
   "metadata": {},
   "source": [
    "- The Test Campaign has a lower avergae Cost Per Click (CPC) than the Control Campaign i.e  It cost the business more in getting the customers to click through their website with the Control Campaign"
   ]
  },
  {
   "cell_type": "markdown",
   "id": "d99016eb",
   "metadata": {},
   "source": [
    "- The Control Campaign has a higher Add to Cart (ACR) Metric than the Test Campaign, Stating more willingness to buy a product with the control campaign\n",
    "\n"
   ]
  },
  {
   "cell_type": "markdown",
   "id": "300ea0c2",
   "metadata": {},
   "source": [
    "- Control campaign exhibits a higher average Conversion Rate (CR) compared to the Test campaign,indicating a better rate of turning clicks into purchases.\n",
    "\n"
   ]
  },
  {
   "cell_type": "markdown",
   "id": "060e77f9",
   "metadata": {},
   "source": [
    "- Test campaign has a higher average Cost per Conversion (CPConv) compared to the Control campaign, implying that conversions are more costly in the Test group."
   ]
  },
  {
   "cell_type": "markdown",
   "id": "c89f43ee",
   "metadata": {},
   "source": [
    "#### Summary of the Insights"
   ]
  },
  {
   "cell_type": "code",
   "execution_count": 101,
   "id": "298bb5b9",
   "metadata": {},
   "outputs": [
    {
     "data": {
      "text/html": [
       "<div>\n",
       "<style scoped>\n",
       "    .dataframe tbody tr th:only-of-type {\n",
       "        vertical-align: middle;\n",
       "    }\n",
       "\n",
       "    .dataframe tbody tr th {\n",
       "        vertical-align: top;\n",
       "    }\n",
       "\n",
       "    .dataframe thead th {\n",
       "        text-align: right;\n",
       "    }\n",
       "</style>\n",
       "<table border=\"1\" class=\"dataframe\">\n",
       "  <thead>\n",
       "    <tr style=\"text-align: right;\">\n",
       "      <th></th>\n",
       "      <th>Cost Per Impression</th>\n",
       "      <th>Click Through Rate</th>\n",
       "      <th>Cost Per Conversion</th>\n",
       "      <th>Add To Cart Rate</th>\n",
       "      <th>Conversion Rate</th>\n",
       "      <th>Cost Per Click</th>\n",
       "    </tr>\n",
       "    <tr>\n",
       "      <th>Campaign Name</th>\n",
       "      <th></th>\n",
       "      <th></th>\n",
       "      <th></th>\n",
       "      <th></th>\n",
       "      <th></th>\n",
       "      <th></th>\n",
       "    </tr>\n",
       "  </thead>\n",
       "  <tbody>\n",
       "    <tr>\n",
       "      <th>Control Campaign</th>\n",
       "      <td>Lower Avg</td>\n",
       "      <td>Lower Avg</td>\n",
       "      <td>Lower Avg</td>\n",
       "      <td>Higher Avg</td>\n",
       "      <td>Higher Avg</td>\n",
       "      <td>Higher Avg</td>\n",
       "    </tr>\n",
       "    <tr>\n",
       "      <th>Test Campaign</th>\n",
       "      <td>Higher Avg</td>\n",
       "      <td>Higher Avg</td>\n",
       "      <td>Higher Avg</td>\n",
       "      <td>Lower Avg</td>\n",
       "      <td>Lower Avg</td>\n",
       "      <td>Lower Avg</td>\n",
       "    </tr>\n",
       "  </tbody>\n",
       "</table>\n",
       "</div>"
      ],
      "text/plain": [
       "                 Cost Per Impression Click Through Rate Cost Per Conversion  \\\n",
       "Campaign Name                                                                 \n",
       "Control Campaign           Lower Avg          Lower Avg           Lower Avg   \n",
       " Test Campaign            Higher Avg         Higher Avg          Higher Avg   \n",
       "\n",
       "                 Add To Cart Rate Conversion Rate Cost Per Click  \n",
       "Campaign Name                                                     \n",
       "Control Campaign       Higher Avg      Higher Avg     Higher Avg  \n",
       " Test Campaign          Lower Avg       Lower Avg      Lower Avg  "
      ]
     },
     "execution_count": 101,
     "metadata": {},
     "output_type": "execute_result"
    }
   ],
   "source": [
    "d = pd.DataFrame({'Cost Per Impression':['Lower Avg','Higher Avg'],'Click Through Rate':['Lower Avg','Higher Avg'],\n",
    "             'Cost Per Conversion':['Lower Avg','Higher Avg'], 'Add To Cart Rate':['Higher Avg','Lower Avg'],\n",
    "             \"Conversion Rate\":['Higher Avg','Lower Avg'],'Cost Per Conversion':['Lower Avg','Higher Avg'],\n",
    "                  'Cost Per Click':['Higher Avg','Lower Avg'],\n",
    "                 'Campaign Name':['Control Campaign',' Test Campaign']})\n",
    "d.set_index('Campaign Name')"
   ]
  },
  {
   "cell_type": "markdown",
   "id": "745c6a57",
   "metadata": {},
   "source": [
    "### Conclution \n"
   ]
  },
  {
   "cell_type": "markdown",
   "id": "7467f69c",
   "metadata": {},
   "source": [
    "- If the Company wants to <b>increase its customer conversion </b> while <b>minimizing cost</b> Control Campaign is the best in achieiving that purpose due to Higher CR and lower CPC"
   ]
  },
  {
   "cell_type": "markdown",
   "id": "319c9685",
   "metadata": {},
   "source": [
    "- But if the companies just wants it improve its <b>Brand Awarness </b> the Test campaign is the best because of its higher Click Through Rate and Lower Cost Per Click"
   ]
  }
 ],
 "metadata": {
  "kernelspec": {
   "display_name": "Python 3 (ipykernel)",
   "language": "python",
   "name": "python3"
  },
  "language_info": {
   "codemirror_mode": {
    "name": "ipython",
    "version": 3
   },
   "file_extension": ".py",
   "mimetype": "text/x-python",
   "name": "python",
   "nbconvert_exporter": "python",
   "pygments_lexer": "ipython3",
   "version": "3.9.12"
  }
 },
 "nbformat": 4,
 "nbformat_minor": 5
}
